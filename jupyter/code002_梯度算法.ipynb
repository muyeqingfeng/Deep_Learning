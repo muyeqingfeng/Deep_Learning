{
 "cells": [
  {
   "cell_type": "code",
   "execution_count": 11,
   "metadata": {},
   "outputs": [
    {
     "data": {
      "image/png": "[encoded data removed]",
      "text/plain": [
       "<Figure size 432x288 with 1 Axes>"
      ]
     },
     "metadata": {
      "needs_background": "light"
     },
     "output_type": "display_data"
    }
   ],
   "source": [
    "import numpy as np\n",
    "import matplotlib.pyplot as plt\n",
    "\n",
    "# 取所有行第0列数据\n",
    "x_data = np.random.randint(1,100,100)\n",
    "# 取所有行第1列数据\n",
    "y_data = 6 + x_data * 3 \n",
    "# 画图工具\n",
    "plt.scatter(x_data,y_data)\n",
    "plt.show()"
   ]
  },
  {
   "cell_type": "code",
   "execution_count": 12,
   "metadata": {},
   "outputs": [
    {
     "name": "stdout",
     "output_type": "stream",
     "text": [
      "Starting b = 0, k = 0, error = 14844.105\n",
      "Running...\n",
      "After 30000 iterations b = 3.495236026690183, k = 3.037905748337971, error = 0.9054474845948866\n"
     ]
    },
    {
     "data": {
      "image/png": "[encoded data removed]",
      "text/plain": [
       "<Figure size 432x288 with 1 Axes>"
      ]
     },
     "metadata": {
      "needs_background": "light"
     },
     "output_type": "display_data"
    }
   ],
   "source": [
    "# 学习率learning rate\n",
    "lr = 0.0001\n",
    "# 截距\n",
    "b = 0\n",
    "# 斜率\n",
    "k = 0\n",
    "# 最大迭代次数\n",
    "epochs = 30000\n",
    "\n",
    "# 最小二乘法（用来求解代价函数即下图中的J）\n",
    "def compute_error(b, k, x_data, y_data):\n",
    "    totalError = 0\n",
    "    for i in range(0, len(x_data)):\n",
    "        # 真实值 y_data[i] 减去预测值 k * x_data[i] + b\n",
    "        totalError += (y_data[i] - (k * x_data[i] + b)) ** 2\n",
    "    return totalError / float(len(x_data)) / 2.0\n",
    "\n",
    "# 用来计算下图中右上方的θ0和θ1\n",
    "def gradient_descent_runner(x_data, y_data, b, k, lr, epochs):\n",
    "    # 计算总数据量\n",
    "    m = float(len(x_data))\n",
    "    # 循环epochs次\n",
    "    for i in range(epochs):\n",
    "        b_grad = 0\n",
    "        k_grad = 0\n",
    "        # 计算梯度的总和再求平均\n",
    "        for j in range(0, len(x_data)):\n",
    "        \t# 对应下面第二个图里上半部的公式\n",
    "            b_grad += (1/m) * (((k * x_data[j]) + b) - y_data[j])\n",
    "            k_grad += (1/m) * x_data[j] * (((k * x_data[j]) + b) - y_data[j])\n",
    "        # 更新b和k，对应下面第二个图下半部的公式\n",
    "        b = b - (lr * b_grad)\n",
    "        k = k - (lr * k_grad)\n",
    "        # 每迭代5次，输出一次图像\n",
    "        # if i % 5==0:\n",
    "            # print(\"epochs:\",i)\n",
    "            # plt.plot(x_data, y_data, 'b.')\n",
    "            # plt.plot(x_data, k*x_data + b, 'r')\n",
    "            # plt.show()\n",
    "    return b, k\n",
    "\n",
    "print(\"Starting b = {0}, k = {1}, error = {2}\".format(b, k, compute_error(b, k, x_data, y_data)))\n",
    "print(\"Running...\")\n",
    "b, k = gradient_descent_runner(x_data, y_data, b, k, lr, epochs)\n",
    "print(\"After {0} iterations b = {1}, k = {2}, error = {3}\".format(epochs, b, k, compute_error(b, k, x_data, y_data)))\n",
    "\n",
    "# 画图\n",
    "plt.plot(x_data, y_data, 'b.')\n",
    "plt.plot(x_data, k*x_data + b, 'r')\n",
    "plt.show()\n"
   ]
  },
  {
   "cell_type": "code",
   "execution_count": null,
   "metadata": {},
   "outputs": [],
   "source": []
  }
 ],
 "metadata": {
  "kernelspec": {
   "display_name": "Python 3",
   "language": "python",
   "name": "python3"
  },
  "language_info": {
   "codemirror_mode": {
    "name": "ipython",
    "version": 3
   },
   "file_extension": ".py",
   "mimetype": "text/x-python",
   "name": "python",
   "nbconvert_exporter": "python",
   "pygments_lexer": "ipython3",
   "version": "3.8.5"
  }
 },
 "nbformat": 4,
 "nbformat_minor": 4
}
