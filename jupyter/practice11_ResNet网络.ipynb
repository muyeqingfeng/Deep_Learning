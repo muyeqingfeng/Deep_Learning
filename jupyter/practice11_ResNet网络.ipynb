{
 "cells": [
  {
   "cell_type": "code",
   "execution_count": 23,
   "metadata": {},
   "outputs": [
    {
     "name": "stdout",
     "output_type": "stream",
     "text": [
      "Files already downloaded and verified\n"
     ]
    }
   ],
   "source": [
    "import torch\n",
    "import torch.nn as nn\n",
    "import torch.nn.functional as F\n",
    "import torch.optim as optim\n",
    "from torch.utils.data import DataLoader\n",
    "import torchvision.datasets as datasets\n",
    "import torchvision.transforms as transforms\n",
    "import datetime\n",
    "\n",
    "\n",
    "# 超参数设置\n",
    "num_epochs = 10\n",
    "batch_size = 100\n",
    "learning_rate = 1e-2\n",
    "\n",
    "# 图像预处理模块\n",
    "# 先padding, 再翻转，然后裁剪。 数据增广的手段\n",
    "data_transform = transforms.Compose([\n",
    "                                    transforms.Pad(4),  # 缩放\n",
    "                                    transforms.RandomHorizontalFlip(), # 翻转\n",
    "                                    transforms.RandomCrop(32), # 随机剪裁\n",
    "                                    transforms.ToTensor()])\n",
    "\n",
    "# 训练集、测试集\n",
    "train_dataset = datasets.CIFAR10(root='.\\data\\cifar10', train=False, \n",
    "                              transform=data_transform, download=True)\n",
    "test_dataset = datasets.CIFAR10(root='.\\data\\cifar10', train=False,\n",
    "                            transform=data_transform)\n",
    "\n",
    "# 数据加载器\n",
    "train_loader = DataLoader(dataset=train_dataset, batch_size=batch_size, shuffle=True)\n",
    "test_loader = DataLoader(dataset=test_dataset, batch_size=batch_size, shuffle=False)"
   ]
  },
  {
   "cell_type": "markdown",
   "metadata": {},
   "source": [
    "# 卷积层"
   ]
  },
  {
   "cell_type": "code",
   "execution_count": 11,
   "metadata": {},
   "outputs": [],
   "source": [
    "def conv(in_channels, out_channels, stride=1):\n",
    "    return nn.Conv2d(in_channels, out_channels, kernel_size=3,\n",
    "                    stride=stride, padding=1, bias=True)"
   ]
  },
  {
   "cell_type": "markdown",
   "metadata": {},
   "source": [
    "# 残差块（Residual block）"
   ]
  },
  {
   "cell_type": "code",
   "execution_count": 12,
   "metadata": {},
   "outputs": [],
   "source": [
    "# 普通残差块\n",
    "class ResidualBlock(nn.Module):\n",
    "    def __init__(self, in_channels, out_channels, stride=1, downsample=None):\n",
    "        \n",
    "        super(ResidualBlock, self).__init__()\n",
    "        self.conv1 = conv(in_channels, out_channels, stride)\n",
    "        self.bn1 = nn.BatchNorm2d(out_channels)\n",
    "        self.relu = nn.ReLU(inplace=True)\n",
    "        \n",
    "        self.conv2 = conv(out_channels, out_channels)\n",
    "        self.bn2 = nn.BatchNorm2d(out_channels)\n",
    "        self.downsample = downsample\n",
    "    \n",
    "    def forward(self, x):\n",
    "        residual = x\n",
    "        out = self.conv1(x)\n",
    "        out = self.bn1(out)\n",
    "        out = self.relu(out)\n",
    "        \n",
    "        out = self.conv2(out)\n",
    "        out = self.bn2(out)\n",
    "        if self.downsample:\n",
    "            residual = self.downsample(x)\n",
    "        out += residual\n",
    "        out = self.relu(out)\n",
    "        return out"
   ]
  },
  {
   "cell_type": "markdown",
   "metadata": {},
   "source": [
    "# 残差网络搭建"
   ]
  },
  {
   "cell_type": "code",
   "execution_count": 14,
   "metadata": {},
   "outputs": [],
   "source": [
    "class ResNet(nn.Module):\n",
    "    def __init__(self, block, layers, num_classes=10):\n",
    "        \"\"\"\n",
    "        主网络\n",
    "        block: 给定残差块 basic/bottleneck\n",
    "        layers: 每层残差块数量 list类型\n",
    "        num_classes: 输出分类数\n",
    "        \n",
    "        \"\"\"\n",
    "        super(ResNet, self).__init__()\n",
    "        # 第一个残差块，输入通道数\n",
    "        self.in_channels = 16\n",
    "        self.conv = conv(3, 16)\n",
    "        self.bn = nn.BatchNorm2d(16)\n",
    "        self.relu = nn.ReLU(inplace=True)\n",
    "        \n",
    "        self.layer1 = self.make_layer(block, 16, layers[0])\n",
    "        self.layer2 = self.make_layer(block, 32, layers[0], 2)\n",
    "        self.layer3 = self.make_layer(block, 64, layers[1], 2)\n",
    "        #  nn.AvgPool2d需要添加参数ceil_mode=False，否则该模块无法导出为onnx格式\n",
    "        self.avg_pool = nn.AvgPool2d(8, ceil_mode=False)\n",
    "        self.fc = nn.Linear(64, num_classes)\n",
    "        \n",
    "    def make_layer(self, block, out_channels, blocks, stride=1):\n",
    "        \"\"\"\n",
    "        block:\n",
    "        out_channels:\n",
    "        blocks: 当前层残差块数目\n",
    "        stride:\n",
    "        \"\"\"\n",
    "        downsample = None\n",
    "        \"\"\"\n",
    "        当stride不为1，特征图尺寸发生变化，identity需要下采样\n",
    "        当残差块输入输出通道不一样时，idengtity需要通过1×1卷积改变通道数\n",
    "        \"\"\"\n",
    "        if (stride != 1) or (self.in_channels != out_channels):\n",
    "            downsample = nn.Sequential(\n",
    "                conv(self.in_channels, out_channels, stride=stride),\n",
    "                nn.BatchNorm2d(out_channels))\n",
    "        \n",
    "        layers = []\n",
    "        # 残差直接映射部分 -->  添加第一个残差块\n",
    "        layers.append(block(self.in_channels, out_channels, stride, downsample))\n",
    "        # 上一层输出通道数，作为下一层输入通道数\n",
    "        self.in_channels = out_channels\n",
    "        # 循环添加剩余残差块\n",
    "        for i in range(1, blocks):\n",
    "            layers.append(block(out_channels, out_channels))\n",
    "            \n",
    "        return nn.Sequential(*layers) # 序列解包\n",
    "        \n",
    "    def forward(self, x):\n",
    "        out = self.conv(x)\n",
    "        out = self.bn(out)\n",
    "        out = self.relu(out)\n",
    "        \n",
    "        out = self.layer1(out)\n",
    "        out = self.layer2(out)\n",
    "        out = self.layer3(out)\n",
    "        \n",
    "        out = self.avg_pool(out)\n",
    "        out = out.view(out.size(0), -1)\n",
    "        out = self.fc(out)\n",
    "        return out"
   ]
  },
  {
   "cell_type": "markdown",
   "metadata": {},
   "source": [
    "# 实例化模型"
   ]
  },
  {
   "cell_type": "code",
   "execution_count": 15,
   "metadata": {},
   "outputs": [],
   "source": [
    "# 实例化一个残差网络模型\n",
    "model = ResNet(ResidualBlock, [2, 2, 2, 2])\n",
    "\n",
    "# 设置损失函数和优化器\n",
    "criterion = nn.CrossEntropyLoss()\n",
    "optimizer = optim.Adam(model.parameters(), lr=learning_rate)\n",
    "\n",
    "# 用于更新参数组中的学习率\n",
    "def update_lr(optimizer, lr):\n",
    "    for param_group in optimizer.param_groups:\n",
    "        para_group['lr'] = lr\n"
   ]
  },
  {
   "cell_type": "markdown",
   "metadata": {},
   "source": [
    "# 训练模型"
   ]
  },
  {
   "cell_type": "code",
   "execution_count": null,
   "metadata": {
    "scrolled": true
   },
   "outputs": [],
   "source": [
    "total_step = len(train_loader)\n",
    "curr_lr = learning_rate\n",
    "for epoch in range(num_epochs):\n",
    "    for i, (images, labels) in enumerate(train_loader):\n",
    "        # 前向传播\n",
    "        outputs = model(images)\n",
    "        loss = criterion(outputs, labels)\n",
    "        \n",
    "        # 后向传播和优化\n",
    "        optimizer.zero_grad()\n",
    "        loss.backward()\n",
    "        optimizer.step()\n",
    "        \n",
    "        if ((i+1)%100 == 0) and ((epoch+1)%5 == 0):\n",
    "            print(\"Epoch [{}/{}], Step [{}/{}], Loss:{:.4f}\"\n",
    "                 .format(epoch+1, num_epochs, total_step, loss.item()))\n",
    "    \n",
    "    # 学习率衰减策略\n",
    "    if (epoch+1)%20 == 0:\n",
    "        curr_lr /= 3\n",
    "        update_lr(optimizer, curr_lr)\n",
    "                  \n"
   ]
  },
  {
   "cell_type": "code",
   "execution_count": null,
   "metadata": {},
   "outputs": [],
   "source": []
  }
 ],
 "metadata": {
  "kernelspec": {
   "display_name": "pygmt",
   "language": "python",
   "name": "pygmt"
  },
  "language_info": {
   "codemirror_mode": {
    "name": "ipython",
    "version": 3
   },
   "file_extension": ".py",
   "mimetype": "text/x-python",
   "name": "python",
   "nbconvert_exporter": "python",
   "pygments_lexer": "ipython3",
   "version": "3.6.15"
  }
 },
 "nbformat": 4,
 "nbformat_minor": 4
}
