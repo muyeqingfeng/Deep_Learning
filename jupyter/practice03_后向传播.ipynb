{
 "cells": [
  {
   "cell_type": "code",
   "execution_count": 2,
   "metadata": {},
   "outputs": [
    {
     "name": "stderr",
     "output_type": "stream",
     "text": [
      "Using TensorFlow backend.\n",
      "D:\\Anaconda\\envs\\pygmt\\lib\\site-packages\\tensorflow\\python\\framework\\dtypes.py:458: FutureWarning: Passing (type, 1) or '1type' as a synonym of type is deprecated; in a future version of numpy, it will be understood as (type, (1,)) / '(1,)type'.\n",
      "  _np_qint8 = np.dtype([(\"qint8\", np.int8, 1)])\n",
      "D:\\Anaconda\\envs\\pygmt\\lib\\site-packages\\tensorflow\\python\\framework\\dtypes.py:459: FutureWarning: Passing (type, 1) or '1type' as a synonym of type is deprecated; in a future version of numpy, it will be understood as (type, (1,)) / '(1,)type'.\n",
      "  _np_quint8 = np.dtype([(\"quint8\", np.uint8, 1)])\n",
      "D:\\Anaconda\\envs\\pygmt\\lib\\site-packages\\tensorflow\\python\\framework\\dtypes.py:460: FutureWarning: Passing (type, 1) or '1type' as a synonym of type is deprecated; in a future version of numpy, it will be understood as (type, (1,)) / '(1,)type'.\n",
      "  _np_qint16 = np.dtype([(\"qint16\", np.int16, 1)])\n",
      "D:\\Anaconda\\envs\\pygmt\\lib\\site-packages\\tensorflow\\python\\framework\\dtypes.py:461: FutureWarning: Passing (type, 1) or '1type' as a synonym of type is deprecated; in a future version of numpy, it will be understood as (type, (1,)) / '(1,)type'.\n",
      "  _np_quint16 = np.dtype([(\"quint16\", np.uint16, 1)])\n",
      "D:\\Anaconda\\envs\\pygmt\\lib\\site-packages\\tensorflow\\python\\framework\\dtypes.py:462: FutureWarning: Passing (type, 1) or '1type' as a synonym of type is deprecated; in a future version of numpy, it will be understood as (type, (1,)) / '(1,)type'.\n",
      "  _np_qint32 = np.dtype([(\"qint32\", np.int32, 1)])\n",
      "D:\\Anaconda\\envs\\pygmt\\lib\\site-packages\\tensorflow\\python\\framework\\dtypes.py:465: FutureWarning: Passing (type, 1) or '1type' as a synonym of type is deprecated; in a future version of numpy, it will be understood as (type, (1,)) / '(1,)type'.\n",
      "  np_resource = np.dtype([(\"resource\", np.ubyte, 1)])\n"
     ]
    }
   ],
   "source": [
    "import numpy as np\n",
    "from keras.utils import to_categorical\n",
    "from sklearn import datasets\n",
    "import matplotlib.pyplot as plt"
   ]
  },
  {
   "cell_type": "code",
   "execution_count": 12,
   "metadata": {},
   "outputs": [],
   "source": [
    "class Layer(object):\n",
    "    '''\n",
    "    全连接层：中间层\n",
    "    '''\n",
    "    def __init__(self, input_dim, output_dim, activate='sigmoid'):\n",
    "        self.input_dim = input_dim\n",
    "        self.output_dim = output_dim\n",
    "        self.W = np.random.normal(0,0.1,(input_dim, output_dim)) # W随机初始化: N(0,0.01)\n",
    "        self.b = np.zeros((output_dim,)) # b初始化: 0\n",
    "        self.act = activate\n",
    "\n",
    "    def activate(self, a, grad=False):\n",
    "        '''\n",
    "        a: (batch_size, output_dim)\n",
    "        return: (batch_size, output_dim)\n",
    "        '''\n",
    "        if self.act == 'sigmoid':\n",
    "            h = 1/(1+np.exp(-a))\n",
    "            if grad:\n",
    "                return h*(1-h)\n",
    "            return h\n",
    "        elif self.act == 'tanh':\n",
    "            h = np.tanh(a)\n",
    "            if grad:\n",
    "                return 1-h**2\n",
    "            return h\n",
    "        elif self.act == 'ReLU':\n",
    "            h = np.piecewise(a, [a > 0, a <= 0], [lambda x: x, lambda x: 0]) + 0  # +0为了把array(x)转成x\n",
    "            if grad:\n",
    "                return np.piecewise(a, [a > 0, a <= 0], [lambda x: 1, lambda x: 0]) + 0 \n",
    "            return h\n",
    "\n",
    "    def forward(self, input_data):\n",
    "        '''\n",
    "        input_data: (batch_size, input_dim)\n",
    "        return: (batch_size, output_dim)\n",
    "        '''\n",
    "        self.input_data = input_data\n",
    "        self.a = self.input_data.dot(self.W) + self.b\n",
    "        h = self.activate(self.a)\n",
    "        return h\n",
    "\n",
    "    def backward(self, input_grad, lr=0.01):\n",
    "        '''\n",
    "        BP in hidden layer\n",
    "        input_grad: (batch_size, output_dim)  𝜕L/𝜕h for this layer\n",
    "        return: (batch_size, input_dim)      𝜕L/𝜕h for previous layer\n",
    "        '''\n",
    "        batch_size = input_grad.shape[0]\n",
    "        a_grad = self.activate(self.a, grad=True) * input_grad # 𝜕L/𝜕a (batch_size, output_dim)\n",
    "\n",
    "        b_grad = a_grad.mean(axis=0) # 𝜕L/𝜕b (output_dim,)\n",
    "        self.b -= lr * b_grad\n",
    "\n",
    "        # 𝜕L/𝜕W (input_dim, output_dim)\n",
    "        # (batch_size, 1, output_dim) * (batch_size, input_dim, 1) = (batch_size, input_dim, output_dim), then mean at axis=0\n",
    "        W_grad = (a_grad.reshape(batch_size,1,self.output_dim)*self.input_data.reshape(batch_size,self.input_dim,1)).mean(axis=0)\n",
    "        self.W -= lr * W_grad\n",
    "    \n",
    "        return a_grad.dot(self.W.T) "
   ]
  },
  {
   "cell_type": "code",
   "execution_count": 13,
   "metadata": {},
   "outputs": [],
   "source": [
    "class Output_layer(Layer):\n",
    "    '''\n",
    "    输出层：继承自中间层\n",
    "    '''\n",
    "    def __init__(self, input_dim, output_dim, activate='softmax'):\n",
    "        super().__init__(input_dim, output_dim, activate='softmax')\n",
    "\n",
    "    def activate(self, a):\n",
    "        '''\n",
    "        activate in output layer\n",
    "        a: (batch_size, output_dim)\n",
    "        return: (batch_size, output_dim)\n",
    "            使用softmax默认使用cross entropy loss\n",
    "            使用linear默认使用square loss\n",
    "            这样使得输出层中：𝜕L/𝜕a = y_pred - y_train\n",
    "        '''\n",
    "        # softmax和linear对应分类/回归任务的输出层\n",
    "        if self.act == 'softmax':\n",
    "            h = np.exp(a)/(np.exp(a).sum(axis=1).reshape(a.shape[0],1)) \n",
    "            return h\n",
    "        elif self.act == 'linear':\n",
    "            return a\n",
    "    \n",
    "    def backward(self, input_grad, lr=0.01):\n",
    "        '''\n",
    "        BP in output layer\n",
    "        input_grad: (batch_size, output_dim)  𝜕L/𝜕a for output layer, usually y_pred-y\n",
    "        return: (batch_size, input_dim)       𝜕L/𝜕h for previous hidden layer\n",
    "        '''\n",
    "        batch_size = input_grad.shape[0]\n",
    "        a_grad = input_grad          # 𝜕L/𝜕a (batch_size, output_dim)\n",
    "        b_grad = a_grad.mean(axis=0) # 𝜕L/𝜕b (output_dim,)\n",
    "        self.b -= lr * b_grad\n",
    "        # 𝜕L/𝜕W (input_dim, output_dim)\n",
    "        # (batch_size, 1, output_dim) * (batch_size, input_dim, 1) = (batch_size, input_dim, output_dim), then do average at axis=0\n",
    "        W_grad = (a_grad.reshape(batch_size,1,self.output_dim)*self.input_data.reshape(batch_size,self.input_dim,1)).mean(axis=0)\n",
    "        self.W -= lr * W_grad\n",
    "\n",
    "        return input_grad.dot(self.W.T) "
   ]
  },
  {
   "cell_type": "code",
   "execution_count": 27,
   "metadata": {},
   "outputs": [
    {
     "name": "stdout",
     "output_type": "stream",
     "text": [
      "(150, 4) (150, 4) (150,) (150, 3)\n"
     ]
    }
   ],
   "source": [
    "# iris数据测试\n",
    "\n",
    "iris = datasets.load_iris()\n",
    "x = iris['data']\n",
    "y = iris['target']\n",
    "train_x = (x-x.mean(axis=0))/(x.std(axis=0))\n",
    "train_y = to_categorical(y, num_classes=3)\n",
    "print(x.shape, train_x.shape, y.shape, train_y.shape)"
   ]
  },
  {
   "cell_type": "code",
   "execution_count": 28,
   "metadata": {},
   "outputs": [],
   "source": [
    "# 单层softmax：逻辑回归多分类推广\n",
    "ly = Output_layer(input_dim=4, output_dim=3, activate='softmax')"
   ]
  },
  {
   "cell_type": "code",
   "execution_count": 29,
   "metadata": {},
   "outputs": [
    {
     "data": {
      "image/png": "[encoded data removed]",
      "text/plain": [
       "<Figure size 432x288 with 1 Axes>"
      ]
     },
     "metadata": {},
     "output_type": "display_data"
    }
   ],
   "source": [
    "train_acc_set = []\n",
    "\n",
    "for epoch in range(2000):\n",
    "    y_pred = ly.forward(train_x)\n",
    "    input_grad = y_pred - train_y # 𝜕L/𝜕a: softmax + cross_entropy\n",
    "    g1 = ly.backward(input_grad)\n",
    "\n",
    "    train_acc = (y_pred.argmax(axis=1)==y).sum()/y.size\n",
    "    train_acc_set.append(train_acc)\n",
    "\n",
    "plt.plot(train_acc_set)\n",
    "plt.show()"
   ]
  },
  {
   "cell_type": "code",
   "execution_count": null,
   "metadata": {},
   "outputs": [],
   "source": []
  },
  {
   "cell_type": "code",
   "execution_count": 51,
   "metadata": {},
   "outputs": [
    {
     "data": {
      "text/plain": [
       "tensor([1., 2., 3.], requires_grad=True)"
      ]
     },
     "execution_count": 51,
     "metadata": {},
     "output_type": "execute_result"
    }
   ],
   "source": [
    "import torch\n",
    "B = torch.tensor((1,2,3),dtype=torch.float32,requires_grad=True)\n",
    "B"
   ]
  },
  {
   "cell_type": "code",
   "execution_count": 52,
   "metadata": {},
   "outputs": [
    {
     "data": {
      "text/plain": [
       "tensor([2., 4., 6.])"
      ]
     },
     "execution_count": 52,
     "metadata": {},
     "output_type": "execute_result"
    }
   ],
   "source": [
    "y = B.pow(2).sum()\n",
    "y.backward()\n",
    "B.grad"
   ]
  },
  {
   "cell_type": "code",
   "execution_count": null,
   "metadata": {},
   "outputs": [],
   "source": []
  }
 ],
 "metadata": {
  "kernelspec": {
   "display_name": "pygmt",
   "language": "python",
   "name": "pygmt"
  },
  "language_info": {
   "codemirror_mode": {
    "name": "ipython",
    "version": 3
   },
   "file_extension": ".py",
   "mimetype": "text/x-python",
   "name": "python",
   "nbconvert_exporter": "python",
   "pygments_lexer": "ipython3",
   "version": "3.6.15"
  }
 },
 "nbformat": 4,
 "nbformat_minor": 4
}
